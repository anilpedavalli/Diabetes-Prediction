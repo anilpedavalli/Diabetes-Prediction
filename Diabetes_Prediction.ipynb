{
  "nbformat": 4,
  "nbformat_minor": 0,
  "metadata": {
    "colab": {
      "name": "Diabetes-Prediction.ipynb",
      "provenance": [],
      "collapsed_sections": [],
      "toc_visible": true
    },
    "kernelspec": {
      "name": "python3",
      "display_name": "Python 3"
    }
  },
  "cells": [
    {
      "cell_type": "code",
      "metadata": {
        "id": "wQ5_1qDqB8nZ",
        "colab_type": "code",
        "colab": {}
      },
      "source": [
        "#Libraries\n",
        "import pickle\n",
        "import pandas as pd\n",
        "import numpy as np\n",
        "from sklearn.decomposition import PCA\n",
        "from datetime import datetime\n",
        "from tqdm import tqdm,tqdm_notebook\n",
        "import warnings\n",
        "warnings.simplefilter(\"ignore\")\n",
        "\n",
        "import matplotlib.pyplot as plt\n",
        "import seaborn as sns\n",
        "\n",
        "from sklearn.model_selection import train_test_split\n",
        "\n",
        "from sklearn.ensemble import RandomForestClassifier\n",
        "import xgboost as xgb\n",
        "from xgboost import XGBClassifier"
      ],
      "execution_count": 2,
      "outputs": []
    },
    {
      "cell_type": "markdown",
      "metadata": {
        "id": "ugeE9gCnCQGT",
        "colab_type": "text"
      },
      "source": [
        "#1. Loading Data"
      ]
    },
    {
      "cell_type": "code",
      "metadata": {
        "id": "lLnyyo4JCXql",
        "colab_type": "code",
        "colab": {
          "base_uri": "https://localhost:8080/",
          "height": 221
        },
        "outputId": "f23e72d0-fc83-4903-9654-cd9d719a28f9"
      },
      "source": [
        "diab_data=pd.read_csv('/content/Diabetes-Prediction/data/diabetes_data.csv')\n",
        "print(diab_data.shape)\n",
        "diab_data.head(5)"
      ],
      "execution_count": 3,
      "outputs": [
        {
          "output_type": "stream",
          "text": [
            "(768, 10)\n"
          ],
          "name": "stdout"
        },
        {
          "output_type": "execute_result",
          "data": {
            "text/html": [
              "<div>\n",
              "<style scoped>\n",
              "    .dataframe tbody tr th:only-of-type {\n",
              "        vertical-align: middle;\n",
              "    }\n",
              "\n",
              "    .dataframe tbody tr th {\n",
              "        vertical-align: top;\n",
              "    }\n",
              "\n",
              "    .dataframe thead th {\n",
              "        text-align: right;\n",
              "    }\n",
              "</style>\n",
              "<table border=\"1\" class=\"dataframe\">\n",
              "  <thead>\n",
              "    <tr style=\"text-align: right;\">\n",
              "      <th></th>\n",
              "      <th>num_preg</th>\n",
              "      <th>glucose_conc</th>\n",
              "      <th>diastolic_bp</th>\n",
              "      <th>thickness</th>\n",
              "      <th>insulin</th>\n",
              "      <th>bmi</th>\n",
              "      <th>diab_pred</th>\n",
              "      <th>age</th>\n",
              "      <th>skin</th>\n",
              "      <th>diabetes</th>\n",
              "    </tr>\n",
              "  </thead>\n",
              "  <tbody>\n",
              "    <tr>\n",
              "      <th>0</th>\n",
              "      <td>6</td>\n",
              "      <td>148</td>\n",
              "      <td>72</td>\n",
              "      <td>35</td>\n",
              "      <td>0</td>\n",
              "      <td>33.6</td>\n",
              "      <td>0.627</td>\n",
              "      <td>50</td>\n",
              "      <td>1.3790</td>\n",
              "      <td>True</td>\n",
              "    </tr>\n",
              "    <tr>\n",
              "      <th>1</th>\n",
              "      <td>1</td>\n",
              "      <td>85</td>\n",
              "      <td>66</td>\n",
              "      <td>29</td>\n",
              "      <td>0</td>\n",
              "      <td>26.6</td>\n",
              "      <td>0.351</td>\n",
              "      <td>31</td>\n",
              "      <td>1.1426</td>\n",
              "      <td>False</td>\n",
              "    </tr>\n",
              "    <tr>\n",
              "      <th>2</th>\n",
              "      <td>8</td>\n",
              "      <td>183</td>\n",
              "      <td>64</td>\n",
              "      <td>0</td>\n",
              "      <td>0</td>\n",
              "      <td>23.3</td>\n",
              "      <td>0.672</td>\n",
              "      <td>32</td>\n",
              "      <td>0.0000</td>\n",
              "      <td>True</td>\n",
              "    </tr>\n",
              "    <tr>\n",
              "      <th>3</th>\n",
              "      <td>1</td>\n",
              "      <td>89</td>\n",
              "      <td>66</td>\n",
              "      <td>23</td>\n",
              "      <td>94</td>\n",
              "      <td>28.1</td>\n",
              "      <td>0.167</td>\n",
              "      <td>21</td>\n",
              "      <td>0.9062</td>\n",
              "      <td>False</td>\n",
              "    </tr>\n",
              "    <tr>\n",
              "      <th>4</th>\n",
              "      <td>0</td>\n",
              "      <td>137</td>\n",
              "      <td>40</td>\n",
              "      <td>35</td>\n",
              "      <td>168</td>\n",
              "      <td>43.1</td>\n",
              "      <td>2.288</td>\n",
              "      <td>33</td>\n",
              "      <td>1.3790</td>\n",
              "      <td>True</td>\n",
              "    </tr>\n",
              "  </tbody>\n",
              "</table>\n",
              "</div>"
            ],
            "text/plain": [
              "   num_preg  glucose_conc  diastolic_bp  ...  age    skin  diabetes\n",
              "0         6           148            72  ...   50  1.3790      True\n",
              "1         1            85            66  ...   31  1.1426     False\n",
              "2         8           183            64  ...   32  0.0000      True\n",
              "3         1            89            66  ...   21  0.9062     False\n",
              "4         0           137            40  ...   33  1.3790      True\n",
              "\n",
              "[5 rows x 10 columns]"
            ]
          },
          "metadata": {
            "tags": []
          },
          "execution_count": 3
        }
      ]
    },
    {
      "cell_type": "code",
      "metadata": {
        "id": "qFjLhAKgCncO",
        "colab_type": "code",
        "colab": {
          "base_uri": "https://localhost:8080/",
          "height": 51
        },
        "outputId": "b0b1e0a6-0acf-4bdb-cf81-8efaeb1e9573"
      },
      "source": [
        "#checking missing values\n",
        "print('Num of missing values are : ',diab_data.isna().sum().sum())\n",
        "#Dropping Duplicate rows\n",
        "diab_data.drop_duplicates(inplace=True)\n",
        "diab_data.shape"
      ],
      "execution_count": 4,
      "outputs": [
        {
          "output_type": "stream",
          "text": [
            "Num of missing values are :  0\n"
          ],
          "name": "stdout"
        },
        {
          "output_type": "execute_result",
          "data": {
            "text/plain": [
              "(768, 10)"
            ]
          },
          "metadata": {
            "tags": []
          },
          "execution_count": 4
        }
      ]
    },
    {
      "cell_type": "markdown",
      "metadata": {
        "id": "iZ5uCEtODowm",
        "colab_type": "text"
      },
      "source": [
        "#2. Train Test Split"
      ]
    },
    {
      "cell_type": "code",
      "metadata": {
        "id": "W9RZjC0sD0rm",
        "colab_type": "code",
        "colab": {}
      },
      "source": [
        "diabetes_lst=[]\n",
        "for i in diab_data['diabetes'].values:\n",
        "  if i==True:\n",
        "    diabetes_lst.append(1)\n",
        "  else:\n",
        "    diabetes_lst.append(0)\n",
        "\n",
        "#replacing true/false with 1/0\n",
        "diab_data['diabetes']=diabetes_lst\n",
        "\n",
        "X=diab_data.drop('diabetes',axis=1)\n",
        "y=diab_data['diabetes']"
      ],
      "execution_count": 5,
      "outputs": []
    },
    {
      "cell_type": "code",
      "metadata": {
        "id": "sXBfPJTvDsS2",
        "colab_type": "code",
        "colab": {
          "base_uri": "https://localhost:8080/",
          "height": 51
        },
        "outputId": "1a7341ce-44f9-4357-e601-fa7d7ba16755"
      },
      "source": [
        "#Splitting data into train and test\n",
        "from sklearn.model_selection import train_test_split\n",
        "X_train,X_test,Y_train,Y_test=train_test_split(X,y,test_size=0.25,stratify=y,random_state=42)\n",
        "print(X_train.shape,Y_train.shape)\n",
        "print(X_test.shape,Y_test.shape)"
      ],
      "execution_count": 6,
      "outputs": [
        {
          "output_type": "stream",
          "text": [
            "(576, 9) (576,)\n",
            "(192, 9) (192,)\n"
          ],
          "name": "stdout"
        }
      ]
    },
    {
      "cell_type": "markdown",
      "metadata": {
        "id": "JJBjJ2UhDExp",
        "colab_type": "text"
      },
      "source": [
        "#2. EDA"
      ]
    },
    {
      "cell_type": "code",
      "metadata": {
        "id": "TKut7E_ODJnh",
        "colab_type": "code",
        "colab": {
          "base_uri": "https://localhost:8080/",
          "height": 289
        },
        "outputId": "7a385778-0ba7-41a3-cb37-d11f95c1fd91"
      },
      "source": [
        "X_train.info()"
      ],
      "execution_count": 7,
      "outputs": [
        {
          "output_type": "stream",
          "text": [
            "<class 'pandas.core.frame.DataFrame'>\n",
            "Int64Index: 576 entries, 751 to 107\n",
            "Data columns (total 9 columns):\n",
            " #   Column        Non-Null Count  Dtype  \n",
            "---  ------        --------------  -----  \n",
            " 0   num_preg      576 non-null    int64  \n",
            " 1   glucose_conc  576 non-null    int64  \n",
            " 2   diastolic_bp  576 non-null    int64  \n",
            " 3   thickness     576 non-null    int64  \n",
            " 4   insulin       576 non-null    int64  \n",
            " 5   bmi           576 non-null    float64\n",
            " 6   diab_pred     576 non-null    float64\n",
            " 7   age           576 non-null    int64  \n",
            " 8   skin          576 non-null    float64\n",
            "dtypes: float64(3), int64(6)\n",
            "memory usage: 45.0 KB\n"
          ],
          "name": "stdout"
        }
      ]
    },
    {
      "cell_type": "code",
      "metadata": {
        "id": "-Oip3xn9DPQG",
        "colab_type": "code",
        "colab": {
          "base_uri": "https://localhost:8080/",
          "height": 297
        },
        "outputId": "360b86ed-7ad9-4385-bb91-a2f004fb4c00"
      },
      "source": [
        "X_train.describe()"
      ],
      "execution_count": 8,
      "outputs": [
        {
          "output_type": "execute_result",
          "data": {
            "text/html": [
              "<div>\n",
              "<style scoped>\n",
              "    .dataframe tbody tr th:only-of-type {\n",
              "        vertical-align: middle;\n",
              "    }\n",
              "\n",
              "    .dataframe tbody tr th {\n",
              "        vertical-align: top;\n",
              "    }\n",
              "\n",
              "    .dataframe thead th {\n",
              "        text-align: right;\n",
              "    }\n",
              "</style>\n",
              "<table border=\"1\" class=\"dataframe\">\n",
              "  <thead>\n",
              "    <tr style=\"text-align: right;\">\n",
              "      <th></th>\n",
              "      <th>num_preg</th>\n",
              "      <th>glucose_conc</th>\n",
              "      <th>diastolic_bp</th>\n",
              "      <th>thickness</th>\n",
              "      <th>insulin</th>\n",
              "      <th>bmi</th>\n",
              "      <th>diab_pred</th>\n",
              "      <th>age</th>\n",
              "      <th>skin</th>\n",
              "    </tr>\n",
              "  </thead>\n",
              "  <tbody>\n",
              "    <tr>\n",
              "      <th>count</th>\n",
              "      <td>576.000000</td>\n",
              "      <td>576.000000</td>\n",
              "      <td>576.000000</td>\n",
              "      <td>576.000000</td>\n",
              "      <td>576.000000</td>\n",
              "      <td>576.000000</td>\n",
              "      <td>576.000000</td>\n",
              "      <td>576.000000</td>\n",
              "      <td>576.000000</td>\n",
              "    </tr>\n",
              "    <tr>\n",
              "      <th>mean</th>\n",
              "      <td>3.831597</td>\n",
              "      <td>120.767361</td>\n",
              "      <td>69.170139</td>\n",
              "      <td>20.723958</td>\n",
              "      <td>77.899306</td>\n",
              "      <td>32.064583</td>\n",
              "      <td>0.480200</td>\n",
              "      <td>33.536458</td>\n",
              "      <td>0.816524</td>\n",
              "    </tr>\n",
              "    <tr>\n",
              "      <th>std</th>\n",
              "      <td>3.312864</td>\n",
              "      <td>31.771380</td>\n",
              "      <td>18.699887</td>\n",
              "      <td>15.877307</td>\n",
              "      <td>107.415003</td>\n",
              "      <td>7.861032</td>\n",
              "      <td>0.333188</td>\n",
              "      <td>11.878752</td>\n",
              "      <td>0.625566</td>\n",
              "    </tr>\n",
              "    <tr>\n",
              "      <th>min</th>\n",
              "      <td>0.000000</td>\n",
              "      <td>0.000000</td>\n",
              "      <td>0.000000</td>\n",
              "      <td>0.000000</td>\n",
              "      <td>0.000000</td>\n",
              "      <td>0.000000</td>\n",
              "      <td>0.084000</td>\n",
              "      <td>21.000000</td>\n",
              "      <td>0.000000</td>\n",
              "    </tr>\n",
              "    <tr>\n",
              "      <th>25%</th>\n",
              "      <td>1.000000</td>\n",
              "      <td>99.000000</td>\n",
              "      <td>62.000000</td>\n",
              "      <td>0.000000</td>\n",
              "      <td>0.000000</td>\n",
              "      <td>27.600000</td>\n",
              "      <td>0.245750</td>\n",
              "      <td>24.000000</td>\n",
              "      <td>0.000000</td>\n",
              "    </tr>\n",
              "    <tr>\n",
              "      <th>50%</th>\n",
              "      <td>3.000000</td>\n",
              "      <td>116.500000</td>\n",
              "      <td>72.000000</td>\n",
              "      <td>23.000000</td>\n",
              "      <td>40.000000</td>\n",
              "      <td>32.400000</td>\n",
              "      <td>0.384000</td>\n",
              "      <td>30.000000</td>\n",
              "      <td>0.906200</td>\n",
              "    </tr>\n",
              "    <tr>\n",
              "      <th>75%</th>\n",
              "      <td>6.000000</td>\n",
              "      <td>141.000000</td>\n",
              "      <td>80.000000</td>\n",
              "      <td>32.000000</td>\n",
              "      <td>129.250000</td>\n",
              "      <td>36.525000</td>\n",
              "      <td>0.646250</td>\n",
              "      <td>41.000000</td>\n",
              "      <td>1.260800</td>\n",
              "    </tr>\n",
              "    <tr>\n",
              "      <th>max</th>\n",
              "      <td>17.000000</td>\n",
              "      <td>199.000000</td>\n",
              "      <td>122.000000</td>\n",
              "      <td>99.000000</td>\n",
              "      <td>744.000000</td>\n",
              "      <td>67.100000</td>\n",
              "      <td>2.329000</td>\n",
              "      <td>81.000000</td>\n",
              "      <td>3.900600</td>\n",
              "    </tr>\n",
              "  </tbody>\n",
              "</table>\n",
              "</div>"
            ],
            "text/plain": [
              "         num_preg  glucose_conc  ...         age        skin\n",
              "count  576.000000    576.000000  ...  576.000000  576.000000\n",
              "mean     3.831597    120.767361  ...   33.536458    0.816524\n",
              "std      3.312864     31.771380  ...   11.878752    0.625566\n",
              "min      0.000000      0.000000  ...   21.000000    0.000000\n",
              "25%      1.000000     99.000000  ...   24.000000    0.000000\n",
              "50%      3.000000    116.500000  ...   30.000000    0.906200\n",
              "75%      6.000000    141.000000  ...   41.000000    1.260800\n",
              "max     17.000000    199.000000  ...   81.000000    3.900600\n",
              "\n",
              "[8 rows x 9 columns]"
            ]
          },
          "metadata": {
            "tags": []
          },
          "execution_count": 8
        }
      ]
    },
    {
      "cell_type": "code",
      "metadata": {
        "id": "sYbWpNhgDgI3",
        "colab_type": "code",
        "colab": {
          "base_uri": "https://localhost:8080/",
          "height": 282
        },
        "outputId": "3380d519-1461-4a08-b6bb-0ec5e2702bf5"
      },
      "source": [
        "#Checking class imbalance.\n",
        "labels_dt=dict(Y_train.value_counts())\n",
        "plt.bar(['0','1'],list(labels_dt.values()))"
      ],
      "execution_count": 9,
      "outputs": [
        {
          "output_type": "execute_result",
          "data": {
            "text/plain": [
              "<BarContainer object of 2 artists>"
            ]
          },
          "metadata": {
            "tags": []
          },
          "execution_count": 9
        },
        {
          "output_type": "display_data",
          "data": {
            "image/png": "[encoded data removed]",
            "text/plain": [
              "<Figure size 432x288 with 1 Axes>"
            ]
          },
          "metadata": {
            "tags": [],
            "needs_background": "light"
          }
        }
      ]
    },
    {
      "cell_type": "markdown",
      "metadata": {
        "id": "ACzKSQ73IywB",
        "colab_type": "text"
      },
      "source": [
        "#Feature Selection"
      ]
    },
    {
      "cell_type": "code",
      "metadata": {
        "id": "yygVhFxVSaA2",
        "colab_type": "code",
        "colab": {
          "base_uri": "https://localhost:8080/",
          "height": 328
        },
        "outputId": "0a64745a-228f-48f8-fb35-9e283bf47dc7"
      },
      "source": [
        "X_train.corr()"
      ],
      "execution_count": 10,
      "outputs": [
        {
          "output_type": "execute_result",
          "data": {
            "text/html": [
              "<div>\n",
              "<style scoped>\n",
              "    .dataframe tbody tr th:only-of-type {\n",
              "        vertical-align: middle;\n",
              "    }\n",
              "\n",
              "    .dataframe tbody tr th {\n",
              "        vertical-align: top;\n",
              "    }\n",
              "\n",
              "    .dataframe thead th {\n",
              "        text-align: right;\n",
              "    }\n",
              "</style>\n",
              "<table border=\"1\" class=\"dataframe\">\n",
              "  <thead>\n",
              "    <tr style=\"text-align: right;\">\n",
              "      <th></th>\n",
              "      <th>num_preg</th>\n",
              "      <th>glucose_conc</th>\n",
              "      <th>diastolic_bp</th>\n",
              "      <th>thickness</th>\n",
              "      <th>insulin</th>\n",
              "      <th>bmi</th>\n",
              "      <th>diab_pred</th>\n",
              "      <th>age</th>\n",
              "      <th>skin</th>\n",
              "    </tr>\n",
              "  </thead>\n",
              "  <tbody>\n",
              "    <tr>\n",
              "      <th>num_preg</th>\n",
              "      <td>1.000000</td>\n",
              "      <td>0.143560</td>\n",
              "      <td>0.100853</td>\n",
              "      <td>-0.107152</td>\n",
              "      <td>-0.044307</td>\n",
              "      <td>0.003597</td>\n",
              "      <td>-0.061516</td>\n",
              "      <td>0.523782</td>\n",
              "      <td>-0.107152</td>\n",
              "    </tr>\n",
              "    <tr>\n",
              "      <th>glucose_conc</th>\n",
              "      <td>0.143560</td>\n",
              "      <td>1.000000</td>\n",
              "      <td>0.147956</td>\n",
              "      <td>0.036734</td>\n",
              "      <td>0.347588</td>\n",
              "      <td>0.188119</td>\n",
              "      <td>0.125984</td>\n",
              "      <td>0.289533</td>\n",
              "      <td>0.036734</td>\n",
              "    </tr>\n",
              "    <tr>\n",
              "      <th>diastolic_bp</th>\n",
              "      <td>0.100853</td>\n",
              "      <td>0.147956</td>\n",
              "      <td>1.000000</td>\n",
              "      <td>0.161171</td>\n",
              "      <td>0.096122</td>\n",
              "      <td>0.271709</td>\n",
              "      <td>0.022236</td>\n",
              "      <td>0.220797</td>\n",
              "      <td>0.161171</td>\n",
              "    </tr>\n",
              "    <tr>\n",
              "      <th>thickness</th>\n",
              "      <td>-0.107152</td>\n",
              "      <td>0.036734</td>\n",
              "      <td>0.161171</td>\n",
              "      <td>1.000000</td>\n",
              "      <td>0.468928</td>\n",
              "      <td>0.364591</td>\n",
              "      <td>0.182539</td>\n",
              "      <td>-0.102407</td>\n",
              "      <td>1.000000</td>\n",
              "    </tr>\n",
              "    <tr>\n",
              "      <th>insulin</th>\n",
              "      <td>-0.044307</td>\n",
              "      <td>0.347588</td>\n",
              "      <td>0.096122</td>\n",
              "      <td>0.468928</td>\n",
              "      <td>1.000000</td>\n",
              "      <td>0.192899</td>\n",
              "      <td>0.238205</td>\n",
              "      <td>-0.018226</td>\n",
              "      <td>0.468928</td>\n",
              "    </tr>\n",
              "    <tr>\n",
              "      <th>bmi</th>\n",
              "      <td>0.003597</td>\n",
              "      <td>0.188119</td>\n",
              "      <td>0.271709</td>\n",
              "      <td>0.364591</td>\n",
              "      <td>0.192899</td>\n",
              "      <td>1.000000</td>\n",
              "      <td>0.132408</td>\n",
              "      <td>0.025166</td>\n",
              "      <td>0.364591</td>\n",
              "    </tr>\n",
              "    <tr>\n",
              "      <th>diab_pred</th>\n",
              "      <td>-0.061516</td>\n",
              "      <td>0.125984</td>\n",
              "      <td>0.022236</td>\n",
              "      <td>0.182539</td>\n",
              "      <td>0.238205</td>\n",
              "      <td>0.132408</td>\n",
              "      <td>1.000000</td>\n",
              "      <td>0.019768</td>\n",
              "      <td>0.182539</td>\n",
              "    </tr>\n",
              "    <tr>\n",
              "      <th>age</th>\n",
              "      <td>0.523782</td>\n",
              "      <td>0.289533</td>\n",
              "      <td>0.220797</td>\n",
              "      <td>-0.102407</td>\n",
              "      <td>-0.018226</td>\n",
              "      <td>0.025166</td>\n",
              "      <td>0.019768</td>\n",
              "      <td>1.000000</td>\n",
              "      <td>-0.102407</td>\n",
              "    </tr>\n",
              "    <tr>\n",
              "      <th>skin</th>\n",
              "      <td>-0.107152</td>\n",
              "      <td>0.036734</td>\n",
              "      <td>0.161171</td>\n",
              "      <td>1.000000</td>\n",
              "      <td>0.468928</td>\n",
              "      <td>0.364591</td>\n",
              "      <td>0.182539</td>\n",
              "      <td>-0.102407</td>\n",
              "      <td>1.000000</td>\n",
              "    </tr>\n",
              "  </tbody>\n",
              "</table>\n",
              "</div>"
            ],
            "text/plain": [
              "              num_preg  glucose_conc  ...       age      skin\n",
              "num_preg      1.000000      0.143560  ...  0.523782 -0.107152\n",
              "glucose_conc  0.143560      1.000000  ...  0.289533  0.036734\n",
              "diastolic_bp  0.100853      0.147956  ...  0.220797  0.161171\n",
              "thickness    -0.107152      0.036734  ... -0.102407  1.000000\n",
              "insulin      -0.044307      0.347588  ... -0.018226  0.468928\n",
              "bmi           0.003597      0.188119  ...  0.025166  0.364591\n",
              "diab_pred    -0.061516      0.125984  ...  0.019768  0.182539\n",
              "age           0.523782      0.289533  ...  1.000000 -0.102407\n",
              "skin         -0.107152      0.036734  ... -0.102407  1.000000\n",
              "\n",
              "[9 rows x 9 columns]"
            ]
          },
          "metadata": {
            "tags": []
          },
          "execution_count": 10
        }
      ]
    },
    {
      "cell_type": "code",
      "metadata": {
        "id": "_Ii_d_bLIQZN",
        "colab_type": "code",
        "colab": {
          "base_uri": "https://localhost:8080/",
          "height": 669
        },
        "outputId": "2f55f3e1-c1a8-44dd-fb0a-50d9e0a91457"
      },
      "source": [
        "plt.figure(figsize=(10,10))\n",
        "sns.heatmap(X_train.corr())"
      ],
      "execution_count": 11,
      "outputs": [
        {
          "output_type": "execute_result",
          "data": {
            "text/plain": [
              "<matplotlib.axes._subplots.AxesSubplot at 0x7f5d42794630>"
            ]
          },
          "metadata": {
            "tags": []
          },
          "execution_count": 11
        },
        {
          "output_type": "display_data",
          "data": {
            "image/png": "[encoded data removed]",
            "text/plain": [
              "<Figure size 720x720 with 2 Axes>"
            ]
          },
          "metadata": {
            "tags": [],
            "needs_background": "light"
          }
        }
      ]
    },
    {
      "cell_type": "markdown",
      "metadata": {
        "id": "0hO7ZTp8Jv_I",
        "colab_type": "text"
      },
      "source": [
        "It is observed that skin and thickness are highly correlated. so removing skin feature"
      ]
    },
    {
      "cell_type": "code",
      "metadata": {
        "id": "aPwjFa2CJ4kI",
        "colab_type": "code",
        "colab": {}
      },
      "source": [
        "#dropping skin column\n",
        "X_train=X_train.drop('skin',axis=1)\n",
        "X_test=X_test.drop('skin',axis=1)"
      ],
      "execution_count": 12,
      "outputs": []
    },
    {
      "cell_type": "code",
      "metadata": {
        "id": "v8txdIFzJSrl",
        "colab_type": "code",
        "colab": {
          "base_uri": "https://localhost:8080/",
          "height": 281
        },
        "outputId": "ef62933d-19fb-44f9-8496-e71165049db9"
      },
      "source": [
        "#feature_importance_\n",
        "from sklearn.ensemble import ExtraTreesRegressor\n",
        "rf=ExtraTreesRegressor()\n",
        "rf.fit(X_train,Y_train)\n",
        "feature_imp=rf.feature_importances_\n",
        "features=X_train.columns\n",
        "plt.figure(figsize=(20,5))\n",
        "plt.bar(features,feature_imp)"
      ],
      "execution_count": 13,
      "outputs": [
        {
          "output_type": "execute_result",
          "data": {
            "text/plain": [
              "<BarContainer object of 8 artists>"
            ]
          },
          "metadata": {
            "tags": []
          },
          "execution_count": 13
        },
        {
          "output_type": "display_data",
          "data": {
            "image/png": "[encoded data removed]",
            "text/plain": [
              "<Figure size 1440x360 with 1 Axes>"
            ]
          },
          "metadata": {
            "tags": [],
            "needs_background": "light"
          }
        }
      ]
    },
    {
      "cell_type": "markdown",
      "metadata": {
        "id": "nm2o_BxJKKks",
        "colab_type": "text"
      },
      "source": [
        "It is observed that glucose_con is the most important feature in predicting the class labels."
      ]
    },
    {
      "cell_type": "code",
      "metadata": {
        "id": "4CbtWe5xQyQo",
        "colab_type": "code",
        "colab": {}
      },
      "source": [
        "col=list(X_train.columns)\n",
        "#Imputing where value=0\n",
        "from sklearn.impute import SimpleImputer\n",
        "mean_impute=SimpleImputer(missing_values=0,strategy='mean')\n",
        "X_train=mean_impute.fit_transform(X_train)\n",
        "X_test=mean_impute.fit_transform(X_test)\n",
        "X_train=pd.DataFrame(X_train, columns=col)\n",
        "X_test=pd.DataFrame(X_test, columns=col)"
      ],
      "execution_count": 14,
      "outputs": []
    },
    {
      "cell_type": "code",
      "metadata": {
        "id": "VAr0aDfHKUrf",
        "colab_type": "code",
        "colab": {
          "base_uri": "https://localhost:8080/",
          "height": 51
        },
        "outputId": "1d5a54c4-7b4a-41c2-8220-c91812425a66"
      },
      "source": [
        "#Upsampling the dataa using SMOOTE\n",
        "from imblearn.over_sampling import SMOTE\n",
        "X_train_up, Y_train_up = SMOTE(sampling_strategy={1.0:X_train.shape[0]}).fit_resample(X_train, Y_train)\n",
        "X_train_up = pd.DataFrame(X_train_up, columns=col)\n",
        "print(X_train_up.shape)\n",
        "print(Y_train_up.shape)"
      ],
      "execution_count": 15,
      "outputs": [
        {
          "output_type": "stream",
          "text": [
            "(951, 8)\n",
            "(951,)\n"
          ],
          "name": "stdout"
        }
      ]
    },
    {
      "cell_type": "code",
      "metadata": {
        "id": "WIcnhQI7LiOU",
        "colab_type": "code",
        "colab": {}
      },
      "source": [
        "#Splitting data into train and cv\n",
        "from sklearn.model_selection import train_test_split\n",
        "X_train_up,X_cv,Y_train_up,Y_cv=train_test_split(X_train_up,Y_train_up,test_size=0.25,stratify=Y_train_up,random_state=42)\n",
        "print(X_train_up.shape,Y_train_up.shape)\n",
        "print(X_cv.shape,Y_cv.shape)"
      ],
      "execution_count": null,
      "outputs": []
    },
    {
      "cell_type": "markdown",
      "metadata": {
        "id": "T_qmOHIYMXq5",
        "colab_type": "text"
      },
      "source": [
        "#Model Selection"
      ]
    },
    {
      "cell_type": "code",
      "metadata": {
        "id": "RsdMzrwKUCwN",
        "colab_type": "code",
        "colab": {}
      },
      "source": [
        "#Metrics. \n",
        "from sklearn.metrics import make_scorer, roc_auc_score, recall_score, matthews_corrcoef, balanced_accuracy_score, accuracy_score\n",
        "\n",
        "def custom_scorer(y_true, y_pred, actual_scorer):\n",
        "  score = np.nan\n",
        "  try:\n",
        "      score = actual_scorer(y_true, y_pred)\n",
        "  except ValueError: \n",
        "      pass\n",
        "  return score\n",
        "\n",
        "acc = make_scorer(accuracy_score)\n",
        "recall = make_scorer(custom_scorer, actual_scorer=recall_score)\n",
        "new_auc = make_scorer(custom_scorer, actual_scorer=roc_auc_score)\n",
        "mcc = make_scorer(custom_scorer, actual_scorer=matthews_corrcoef)\n",
        "bal_acc = make_scorer(custom_scorer,actual_scorer=balanced_accuracy_score)\n",
        "\n",
        "#scoring = {\"roc_auc_score\": new_auc, \"recall\": recall, \"MCC\" : mcc, 'Bal_acc' : bal_acc, \"Accuracy\": acc }\n",
        "#scoring_metrics = {\"Accuracy\": acc }"
      ],
      "execution_count": 47,
      "outputs": []
    },
    {
      "cell_type": "code",
      "metadata": {
        "id": "tu7uP9iybhm1",
        "colab_type": "code",
        "colab": {}
      },
      "source": [
        "#function for printing the confusion matrix \n",
        "from sklearn.metrics import confusion_matrix\n",
        "def plot_confusion_matrix(test_y, predict_y):\n",
        "  C = confusion_matrix(test_y, predict_y)\n",
        "  A =(((C.T)/(C.sum(axis=1))).T)\n",
        "  B =(C/C.sum(axis=0))\n",
        "  plt.figure(figsize=(20,4))\n",
        "  labels = [0,1]\n",
        "  # representing A in heatmap format\n",
        "  cmap=sns.light_palette(\"blue\")\n",
        "  plt.subplot(1, 3, 1)\n",
        "  sns.heatmap(C, annot=True, cmap=cmap, fmt=\".3f\", xticklabels=labels, yticklabels=labels)\n",
        "  plt.xlabel('Predicted Class')\n",
        "  plt.ylabel('Original Class')\n",
        "  plt.title(\"Confusion matrix\")\n",
        "  plt.subplot(1, 3, 2)\n",
        "  sns.heatmap(B, annot=True, cmap=cmap, fmt=\".3f\", xticklabels=labels, yticklabels=labels)\n",
        "  plt.xlabel('Predicted Class')\n",
        "  plt.ylabel('Original Class')\n",
        "  plt.title(\"Precision matrix\")\n",
        "  plt.subplot(1, 3, 3)\n",
        "  # representing B in heatmap format\n",
        "  sns.heatmap(A, annot=True, cmap=cmap, fmt=\".3f\", xticklabels=labels, yticklabels=labels)\n",
        "  plt.xlabel('Predicted Class')\n",
        "  plt.ylabel('Original Class')\n",
        "  plt.title(\"Recall matrix\")\n",
        "  plt.show()"
      ],
      "execution_count": 57,
      "outputs": []
    },
    {
      "cell_type": "code",
      "metadata": {
        "id": "tE0gnkPKMZ8c",
        "colab_type": "code",
        "colab": {
          "base_uri": "https://localhost:8080/",
          "height": 122
        },
        "outputId": "995f2443-7b46-4f9f-e715-6e7127560e2b"
      },
      "source": [
        "#RandomForestClassifier\n",
        "from sklearn.ensemble import RandomForestClassifier\n",
        "from sklearn.model_selection import RandomizedSearchCV,GridSearchCV\n",
        "rf=RandomForestClassifier()\n",
        "params={'n_estimators':[int(x) for x in np.linspace(10,1000,10)],\n",
        "        'max_depth':[int(x) for x in np.linspace(3,200,10)],\n",
        "        'max_features':['auto','sqrt','log'],\n",
        "        'min_samples_split':[1,2,5,10,15],\n",
        "        'min_samples_leaf':[1,2,5,10]\n",
        "}\n",
        "rand_rf=RandomizedSearchCV(rf,params,verbose=3,n_jobs=-1,cv=10,scoring=acc)\n",
        "rand_rf.fit(X_train_up,Y_train_up)\n",
        "print('Best Parameters obtained from RamdomSearchCV is:',rand_rf.best_params_)"
      ],
      "execution_count": 56,
      "outputs": [
        {
          "output_type": "stream",
          "text": [
            "Fitting 10 folds for each of 10 candidates, totalling 100 fits\n"
          ],
          "name": "stdout"
        },
        {
          "output_type": "stream",
          "text": [
            "[Parallel(n_jobs=-1)]: Using backend LokyBackend with 2 concurrent workers.\n",
            "[Parallel(n_jobs=-1)]: Done  28 tasks      | elapsed:   26.7s\n",
            "[Parallel(n_jobs=-1)]: Done 100 out of 100 | elapsed:  1.0min finished\n"
          ],
          "name": "stderr"
        },
        {
          "output_type": "stream",
          "text": [
            "Best Parameters obtained from RamdomSearchCV is: {'n_estimators': 560, 'min_samples_split': 5, 'min_samples_leaf': 5, 'max_features': 'sqrt', 'max_depth': 112}\n"
          ],
          "name": "stdout"
        }
      ]
    },
    {
      "cell_type": "code",
      "metadata": {
        "id": "XX8WHWZSS-T2",
        "colab_type": "code",
        "colab": {
          "base_uri": "https://localhost:8080/",
          "height": 543
        },
        "outputId": "7462626f-ca7e-4691-8df7-243844af2443"
      },
      "source": [
        "from sklearn.metrics import confusion_matrix, accuracy_score, precision_score, recall_score, f1_score, roc_auc_score,precision_recall_curve\n",
        "\n",
        "y_train_pred=rand_rf.predict(X_train_up)\n",
        "y_test_pred=rand_rf.predict(X_test)\n",
        "\n",
        "print('Train acc is : ',accuracy_score(Y_train_up,y_train_pred))\n",
        "print('Test acc is : ',accuracy_score(Y_test,y_test_pred))\n",
        "\n",
        "print(\"Train Confusion Matrix :-\")\n",
        "plot_confusion_matrix(Y_train_up,y_train_pred)\n",
        "print(\"Test Confusion Matrix :-\")\n",
        "plot_confusion_matrix(Y_test,y_test_pred)"
      ],
      "execution_count": 64,
      "outputs": [
        {
          "output_type": "stream",
          "text": [
            "Train acc is :  0.9305993690851735\n",
            "Test acc is :  0.734375\n",
            "Train Confusion Matrix :-\n"
          ],
          "name": "stdout"
        },
        {
          "output_type": "display_data",
          "data": {
            "image/png": "[encoded data removed]",
            "text/plain": [
              "<Figure size 1440x288 with 6 Axes>"
            ]
          },
          "metadata": {
            "tags": [],
            "needs_background": "light"
          }
        },
        {
          "output_type": "stream",
          "text": [
            "Test Confusion Matrix :-\n"
          ],
          "name": "stdout"
        },
        {
          "output_type": "display_data",
          "data": {
            "image/png": "[encoded data removed]",
            "text/plain": [
              "<Figure size 1440x288 with 6 Axes>"
            ]
          },
          "metadata": {
            "tags": [],
            "needs_background": "light"
          }
        }
      ]
    },
    {
      "cell_type": "code",
      "metadata": {
        "id": "Xcnxd7AQPKQY",
        "colab_type": "code",
        "colab": {
          "base_uri": "https://localhost:8080/",
          "height": 122
        },
        "outputId": "ffd7f1c1-dfac-4513-e108-a6a292c042f0"
      },
      "source": [
        "#XGBClassifier\n",
        "import xgboost as xgb\n",
        "from xgboost import XGBClassifier\n",
        "from sklearn.ensemble import RandomForestClassifier\n",
        "from sklearn.model_selection import RandomizedSearchCV\n",
        "xgb=XGBClassifier()\n",
        "params={'n_estimators':[int(x) for x in np.linspace(10,1000,10)],\n",
        "        'max_depth':[int(x) for x in np.linspace(3,200,10)],\n",
        "        'max_features':['auto','sqrt','log'],\n",
        "        'min_samples_split':[1,2,5,10,15],\n",
        "        'min_samples_leaf':[1,2,5,10]\n",
        "}\n",
        "rand_xgb=RandomizedSearchCV(xgb,params,verbose=3,n_jobs=-1,cv=10,scoring=acc)\n",
        "rand_xgb.fit(X_train_up,Y_train_up)\n",
        "print('Best Parameters obtained from RamdomSearchCV is:',rand_xgb.best_params_)"
      ],
      "execution_count": 65,
      "outputs": [
        {
          "output_type": "stream",
          "text": [
            "Fitting 10 folds for each of 10 candidates, totalling 100 fits\n"
          ],
          "name": "stdout"
        },
        {
          "output_type": "stream",
          "text": [
            "[Parallel(n_jobs=-1)]: Using backend LokyBackend with 2 concurrent workers.\n",
            "[Parallel(n_jobs=-1)]: Done  28 tasks      | elapsed:   11.0s\n",
            "[Parallel(n_jobs=-1)]: Done 100 out of 100 | elapsed:   40.8s finished\n"
          ],
          "name": "stderr"
        },
        {
          "output_type": "stream",
          "text": [
            "Best Parameters obtained from RamdomSearchCV is: {'n_estimators': 560, 'min_samples_split': 2, 'min_samples_leaf': 5, 'max_features': 'log', 'max_depth': 178}\n"
          ],
          "name": "stdout"
        }
      ]
    },
    {
      "cell_type": "code",
      "metadata": {
        "id": "MXE90EysOyHS",
        "colab_type": "code",
        "colab": {
          "base_uri": "https://localhost:8080/",
          "height": 543
        },
        "outputId": "3e049090-65f7-4bde-d3a5-5645f5961016"
      },
      "source": [
        "from sklearn.metrics import confusion_matrix, accuracy_score, precision_score, recall_score, f1_score, roc_auc_score,precision_recall_curve\n",
        "\n",
        "y_train_pred=rand_rf.predict(X_train_up)\n",
        "y_test_pred=rand_rf.predict(X_test)\n",
        "\n",
        "print('Train acc is : ',accuracy_score(Y_train_up,y_train_pred))\n",
        "print('Test acc is : ',accuracy_score(Y_test,y_test_pred))\n",
        "\n",
        "print(\"Train Confusion Matrix :-\")\n",
        "plot_confusion_matrix(Y_train_up,y_train_pred)\n",
        "print(\"Test Confusion Matrix :-\")\n",
        "plot_confusion_matrix(Y_test,y_test_pred)"
      ],
      "execution_count": 66,
      "outputs": [
        {
          "output_type": "stream",
          "text": [
            "Train acc is :  0.9305993690851735\n",
            "Test acc is :  0.734375\n",
            "Train Confusion Matrix :-\n"
          ],
          "name": "stdout"
        },
        {
          "output_type": "display_data",
          "data": {
            "image/png": "[encoded data removed]",
            "text/plain": [
              "<Figure size 1440x288 with 6 Axes>"
            ]
          },
          "metadata": {
            "tags": [],
            "needs_background": "light"
          }
        },
        {
          "output_type": "stream",
          "text": [
            "Test Confusion Matrix :-\n"
          ],
          "name": "stdout"
        },
        {
          "output_type": "display_data",
          "data": {
            "image/png": "[encoded data removed]",
            "text/plain": [
              "<Figure size 1440x288 with 6 Axes>"
            ]
          },
          "metadata": {
            "tags": [],
            "needs_background": "light"
          }
        }
      ]
    }
  ]
}